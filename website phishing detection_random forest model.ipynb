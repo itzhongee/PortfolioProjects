{
 "cells": [
  {
   "cell_type": "code",
   "execution_count": 14,
   "id": "6aa2037d",
   "metadata": {},
   "outputs": [
    {
     "data": {
      "text/plain": [
       "index                          0\n",
       "having_IPhaving_IP_Address     0\n",
       "URLURL_Length                  0\n",
       "Shortining_Service             0\n",
       "having_At_Symbol               0\n",
       "double_slash_redirecting       0\n",
       "Prefix_Suffix                  0\n",
       "having_Sub_Domain              0\n",
       "SSLfinal_State                 0\n",
       "Domain_registeration_length    0\n",
       "Favicon                        0\n",
       "port                           0\n",
       "HTTPS_token                    0\n",
       "Request_URL                    0\n",
       "URL_of_Anchor                  0\n",
       "Links_in_tags                  0\n",
       "SFH                            0\n",
       "Submitting_to_email            0\n",
       "Abnormal_URL                   0\n",
       "Redirect                       0\n",
       "on_mouseover                   0\n",
       "RightClick                     0\n",
       "popUpWidnow                    0\n",
       "Iframe                         0\n",
       "age_of_domain                  0\n",
       "DNSRecord                      0\n",
       "web_traffic                    0\n",
       "Page_Rank                      0\n",
       "Google_Index                   0\n",
       "Links_pointing_to_page         0\n",
       "Statistical_report             0\n",
       "Result                         0\n",
       "dtype: int64"
      ]
     },
     "execution_count": 14,
     "metadata": {},
     "output_type": "execute_result"
    }
   ],
   "source": [
    "from sklearn.ensemble import RandomForestClassifier\n",
    "from sklearn.model_selection import train_test_split\n",
    "from sklearn.metrics import accuracy_score\n",
    "import pandas as pd\n",
    "import numpy as np\n",
    "import seaborn as sns\n",
    "np.random.seed(0)\n",
    "\n",
    "df = pd.read_csv('D:/SMU/Data Analytics/Datasets/website_phishing.csv')\n",
    "\n",
    "df.isnull().sum()"
   ]
  },
  {
   "cell_type": "code",
   "execution_count": 15,
   "id": "7381c9e0",
   "metadata": {},
   "outputs": [],
   "source": [
    "#assigning the x and y variables\n",
    "x = df.drop('Result',axis=1)\n",
    "y = df['Result']\n",
    "\n",
    "#converting the y data\n",
    "label_mapping = {1:'legitimate',0:'suspicious',-1:'phishing'}\n",
    "y = y.map(label_mapping)\n",
    "y = np.array(y)"
   ]
  },
  {
   "cell_type": "code",
   "execution_count": 16,
   "id": "ff77ecf1",
   "metadata": {},
   "outputs": [],
   "source": [
    "#create train and test sets\n",
    "x_train, x_test, y_train, y_test = train_test_split(x, y, test_size=0.25)"
   ]
  },
  {
   "cell_type": "code",
   "execution_count": 17,
   "id": "20b96bd3",
   "metadata": {},
   "outputs": [],
   "source": [
    "#Creating a random forest classifier\n",
    "clf = RandomForestClassifier(n_jobs=2,random_state=0)"
   ]
  },
  {
   "cell_type": "code",
   "execution_count": 18,
   "id": "e1351c93",
   "metadata": {},
   "outputs": [
    {
     "data": {
      "text/plain": [
       "RandomForestClassifier(n_jobs=2, random_state=0)"
      ]
     },
     "execution_count": 18,
     "metadata": {},
     "output_type": "execute_result"
    }
   ],
   "source": [
    "#Fit the model\n",
    "clf.fit(x_test, y_test)"
   ]
  },
  {
   "cell_type": "code",
   "execution_count": 19,
   "id": "9aaa6106",
   "metadata": {},
   "outputs": [
    {
     "data": {
      "text/plain": [
       "array(['phishing', 'phishing', 'phishing', ..., 'phishing', 'legitimate',\n",
       "       'phishing'], dtype=object)"
      ]
     },
     "execution_count": 19,
     "metadata": {},
     "output_type": "execute_result"
    }
   ],
   "source": [
    "#Applying trained classifier to the test\n",
    "clf.predict(x_test)"
   ]
  },
  {
   "cell_type": "code",
   "execution_count": 20,
   "id": "f22cdd09",
   "metadata": {},
   "outputs": [
    {
     "data": {
      "text/plain": [
       "array([[0.01, 0.99],\n",
       "       [0.  , 1.  ],\n",
       "       [0.35, 0.65],\n",
       "       [0.02, 0.98],\n",
       "       [0.96, 0.04],\n",
       "       [0.99, 0.01],\n",
       "       [1.  , 0.  ],\n",
       "       [0.01, 0.99],\n",
       "       [0.  , 1.  ],\n",
       "       [1.  , 0.  ]])"
      ]
     },
     "execution_count": 20,
     "metadata": {},
     "output_type": "execute_result"
    }
   ],
   "source": [
    "#Viewing the predicted probabilities of the first 10 observations\n",
    "clf.predict_proba(x_test)[0:10]"
   ]
  },
  {
   "cell_type": "code",
   "execution_count": 21,
   "id": "285dd659",
   "metadata": {},
   "outputs": [
    {
     "name": "stdout",
     "output_type": "stream",
     "text": [
      "accuracy_score on test dataset:  1.0\n"
     ]
    }
   ],
   "source": [
    "#Accuracy Score on test dataset\n",
    "accuracy_test = accuracy_score(y_test,clf.predict(x_test))\n",
    "print('accuracy_score on test dataset: ', accuracy_test)"
   ]
  },
  {
   "cell_type": "code",
   "execution_count": 22,
   "id": "a6106863",
   "metadata": {},
   "outputs": [
    {
     "name": "stdout",
     "output_type": "stream",
     "text": [
      "                                index  having_IPhaving_IP_Address  \\\n",
      "index                        1.000000                   -0.388317   \n",
      "having_IPhaving_IP_Address  -0.388317                    1.000000   \n",
      "URLURL_Length                0.006105                   -0.052411   \n",
      "Shortining_Service          -0.006281                    0.403461   \n",
      "having_At_Symbol            -0.169478                    0.158699   \n",
      "double_slash_redirecting    -0.003363                    0.397389   \n",
      "Prefix_Suffix               -0.007340                   -0.005257   \n",
      "having_Sub_Domain            0.234091                   -0.080745   \n",
      "SSLfinal_State              -0.006682                    0.071414   \n",
      "Domain_registeration_length -0.001180                   -0.022739   \n",
      "Favicon                      0.007293                    0.087025   \n",
      "port                         0.001656                    0.060979   \n",
      "HTTPS_token                  0.002916                    0.363534   \n",
      "Request_URL                 -0.000862                    0.029773   \n",
      "URL_of_Anchor               -0.005071                    0.099847   \n",
      "Links_in_tags               -0.028865                    0.006212   \n",
      "SFH                          0.085354                   -0.010962   \n",
      "Submitting_to_email          0.005828                    0.077989   \n",
      "Abnormal_URL                 0.003228                    0.336549   \n",
      "Redirect                     0.016804                   -0.321181   \n",
      "on_mouseover                 0.003649                    0.084059   \n",
      "RightClick                  -0.005265                    0.042881   \n",
      "popUpWidnow                  0.006515                    0.096882   \n",
      "Iframe                       0.002533                    0.054694   \n",
      "age_of_domain                0.115320                   -0.010446   \n",
      "DNSRecord                    0.400890                   -0.050733   \n",
      "web_traffic                 -0.014900                    0.002922   \n",
      "Page_Rank                    0.065117                   -0.091774   \n",
      "Google_Index                -0.012527                    0.029153   \n",
      "Links_pointing_to_page       0.002442                   -0.339065   \n",
      "Statistical_report           0.163799                   -0.019103   \n",
      "Result                       0.000978                    0.094160   \n",
      "\n",
      "                             URLURL_Length  Shortining_Service  \\\n",
      "index                             0.006105           -0.006281   \n",
      "having_IPhaving_IP_Address       -0.052411            0.403461   \n",
      "URLURL_Length                     1.000000           -0.097881   \n",
      "Shortining_Service               -0.097881            1.000000   \n",
      "having_At_Symbol                 -0.075108            0.104447   \n",
      "double_slash_redirecting         -0.081247            0.842796   \n",
      "Prefix_Suffix                     0.055247           -0.080471   \n",
      "having_Sub_Domain                 0.003997           -0.041916   \n",
      "SSLfinal_State                    0.048754           -0.061426   \n",
      "Domain_registeration_length      -0.221892            0.060923   \n",
      "Favicon                          -0.042497            0.006101   \n",
      "port                              0.000323            0.002201   \n",
      "HTTPS_token                      -0.089383            0.757838   \n",
      "Request_URL                       0.246348           -0.037235   \n",
      "URL_of_Anchor                    -0.023396            0.000561   \n",
      "Links_in_tags                     0.052869           -0.133379   \n",
      "SFH                               0.414196           -0.022723   \n",
      "Submitting_to_email              -0.014457            0.049328   \n",
      "Abnormal_URL                     -0.106761            0.739290   \n",
      "Redirect                          0.046832           -0.534530   \n",
      "on_mouseover                     -0.045103            0.062383   \n",
      "RightClick                       -0.013613            0.038118   \n",
      "popUpWidnow                      -0.049381            0.036616   \n",
      "Iframe                           -0.013838            0.016581   \n",
      "age_of_domain                     0.179426           -0.052596   \n",
      "DNSRecord                        -0.040823            0.436064   \n",
      "web_traffic                       0.008993           -0.047074   \n",
      "Page_Rank                         0.183518            0.014591   \n",
      "Google_Index                      0.002902            0.155844   \n",
      "Links_pointing_to_page           -0.022987           -0.198410   \n",
      "Statistical_report               -0.067153            0.085461   \n",
      "Result                            0.057430           -0.067966   \n",
      "\n",
      "                             having_At_Symbol  double_slash_redirecting  \\\n",
      "index                               -0.169478                 -0.003363   \n",
      "having_IPhaving_IP_Address           0.158699                  0.397389   \n",
      "URLURL_Length                       -0.075108                 -0.081247   \n",
      "Shortining_Service                   0.104447                  0.842796   \n",
      "having_At_Symbol                     1.000000                  0.086960   \n",
      "double_slash_redirecting             0.086960                  1.000000   \n",
      "Prefix_Suffix                       -0.011726                 -0.085590   \n",
      "having_Sub_Domain                   -0.058976                 -0.043079   \n",
      "SSLfinal_State                       0.031220                 -0.036200   \n",
      "Domain_registeration_length          0.015522                  0.047464   \n",
      "Favicon                              0.304899                  0.035100   \n",
      "port                                 0.364891                  0.025060   \n",
      "HTTPS_token                          0.104561                  0.760799   \n",
      "Request_URL                          0.027909                 -0.026368   \n",
      "URL_of_Anchor                        0.057914                 -0.005036   \n",
      "Links_in_tags                       -0.070861                 -0.125583   \n",
      "SFH                                 -0.008672                 -0.041672   \n",
      "Submitting_to_email                  0.370123                  0.031898   \n",
      "Abnormal_URL                         0.203945                  0.723724   \n",
      "Redirect                            -0.028160                 -0.591478   \n",
      "on_mouseover                         0.279697                  0.086635   \n",
      "RightClick                           0.219503                  0.025863   \n",
      "popUpWidnow                          0.290893                  0.054463   \n",
      "Iframe                               0.284410                  0.010459   \n",
      "age_of_domain                       -0.005499                 -0.050107   \n",
      "DNSRecord                           -0.047872                  0.431409   \n",
      "web_traffic                          0.032918                 -0.062369   \n",
      "Page_Rank                           -0.064735                 -0.003132   \n",
      "Google_Index                         0.037061                  0.178415   \n",
      "Links_pointing_to_page              -0.006080                 -0.194165   \n",
      "Statistical_report                  -0.080357                  0.070390   \n",
      "Result                               0.052948                 -0.038608   \n",
      "\n",
      "                             Prefix_Suffix  having_Sub_Domain  SSLfinal_State  \\\n",
      "index                            -0.007340           0.234091       -0.006682   \n",
      "having_IPhaving_IP_Address       -0.005257          -0.080745        0.071414   \n",
      "URLURL_Length                     0.055247           0.003997        0.048754   \n",
      "Shortining_Service               -0.080471          -0.041916       -0.061426   \n",
      "having_At_Symbol                 -0.011726          -0.058976        0.031220   \n",
      "double_slash_redirecting         -0.085590          -0.043079       -0.036200   \n",
      "Prefix_Suffix                     1.000000           0.087891        0.261391   \n",
      "having_Sub_Domain                 0.087891           1.000000        0.267649   \n",
      "SSLfinal_State                    0.261391           0.267649        1.000000   \n",
      "Domain_registeration_length      -0.096799          -0.082839       -0.193622   \n",
      "Favicon                          -0.007504          -0.016704       -0.014757   \n",
      "port                             -0.022546           0.004863        0.027473   \n",
      "HTTPS_token                      -0.070153          -0.037239       -0.029941   \n",
      "Request_URL                       0.098675           0.104857        0.193054   \n",
      "URL_of_Anchor                     0.348871           0.229491        0.535786   \n",
      "Links_in_tags                     0.100254           0.093646        0.176825   \n",
      "SFH                               0.001326           0.096089        0.171402   \n",
      "Submitting_to_email              -0.045000           0.008830        0.008062   \n",
      "Abnormal_URL                     -0.077620          -0.034908       -0.046245   \n",
      "Redirect                          0.016271           0.031206       -0.021070   \n",
      "on_mouseover                      0.012578          -0.018082        0.023586   \n",
      "RightClick                       -0.024868           0.018230        0.015854   \n",
      "popUpWidnow                      -0.014733          -0.025312       -0.013005   \n",
      "Iframe                           -0.036904           0.010637       -0.002773   \n",
      "age_of_domain                     0.074116           0.119254        0.162809   \n",
      "DNSRecord                        -0.016556           0.125493        0.050972   \n",
      "web_traffic                       0.110598          -0.005764        0.258768   \n",
      "Page_Rank                        -0.006834           0.120730        0.074545   \n",
      "Google_Index                      0.067781           0.057673        0.096051   \n",
      "Links_pointing_to_page            0.067423          -0.010526       -0.011710   \n",
      "Statistical_report               -0.002763           0.081627        0.063411   \n",
      "Result                            0.348606           0.298323        0.714741   \n",
      "\n",
      "                             Domain_registeration_length  ...  popUpWidnow  \\\n",
      "index                                          -0.001180  ...     0.006515   \n",
      "having_IPhaving_IP_Address                     -0.022739  ...     0.096882   \n",
      "URLURL_Length                                  -0.221892  ...    -0.049381   \n",
      "Shortining_Service                              0.060923  ...     0.036616   \n",
      "having_At_Symbol                                0.015522  ...     0.290893   \n",
      "double_slash_redirecting                        0.047464  ...     0.054463   \n",
      "Prefix_Suffix                                  -0.096799  ...    -0.014733   \n",
      "having_Sub_Domain                              -0.082839  ...    -0.025312   \n",
      "SSLfinal_State                                 -0.193622  ...    -0.013005   \n",
      "Domain_registeration_length                     1.000000  ...     0.051410   \n",
      "Favicon                                         0.054253  ...     0.939633   \n",
      "port                                            0.022478  ...     0.748517   \n",
      "HTTPS_token                                     0.059161  ...     0.066957   \n",
      "Request_URL                                    -0.609970  ...    -0.004622   \n",
      "URL_of_Anchor                                  -0.160257  ...     0.041150   \n",
      "Links_in_tags                                  -0.101084  ...    -0.112282   \n",
      "SFH                                            -0.136422  ...    -0.004863   \n",
      "Submitting_to_email                             0.039260  ...     0.629462   \n",
      "Abnormal_URL                                    0.058109  ...     0.091188   \n",
      "Redirect                                       -0.016300  ...    -0.026327   \n",
      "on_mouseover                                    0.023784  ...     0.733629   \n",
      "RightClick                                      0.023520  ...     0.415268   \n",
      "popUpWidnow                                     0.051410  ...     1.000000   \n",
      "Iframe                                          0.004393  ...     0.629406   \n",
      "age_of_domain                                  -0.062851  ...    -0.000948   \n",
      "DNSRecord                                      -0.010477  ...     0.098658   \n",
      "web_traffic                                    -0.134454  ...    -0.043190   \n",
      "Page_Rank                                      -0.059898  ...     0.017114   \n",
      "Google_Index                                   -0.039766  ...    -0.010256   \n",
      "Links_pointing_to_page                          0.122672  ...    -0.121325   \n",
      "Statistical_report                             -0.002212  ...     0.285261   \n",
      "Result                                         -0.225789  ...     0.000086   \n",
      "\n",
      "                               Iframe  age_of_domain  DNSRecord  web_traffic  \\\n",
      "index                        0.002533       0.115320   0.400890    -0.014900   \n",
      "having_IPhaving_IP_Address   0.054694      -0.010446  -0.050733     0.002922   \n",
      "URLURL_Length               -0.013838       0.179426  -0.040823     0.008993   \n",
      "Shortining_Service           0.016581      -0.052596   0.436064    -0.047074   \n",
      "having_At_Symbol             0.284410      -0.005499  -0.047872     0.032918   \n",
      "double_slash_redirecting     0.010459      -0.050107   0.431409    -0.062369   \n",
      "Prefix_Suffix               -0.036904       0.074116  -0.016556     0.110598   \n",
      "having_Sub_Domain            0.010637       0.119254   0.125493    -0.005764   \n",
      "SSLfinal_State              -0.002773       0.162809   0.050972     0.258768   \n",
      "Domain_registeration_length  0.004393      -0.062851  -0.010477    -0.134454   \n",
      "Favicon                      0.627607      -0.002628   0.088211    -0.050922   \n",
      "port                         0.687044       0.008459   0.054849    -0.028543   \n",
      "HTTPS_token                  0.017509      -0.049632   0.395387    -0.039708   \n",
      "Request_URL                  0.016934       0.090455   0.015933     0.161166   \n",
      "URL_of_Anchor                0.013403       0.075508   0.093288     0.326293   \n",
      "Links_in_tags               -0.070030       0.078057  -0.038545     0.064548   \n",
      "SFH                          0.007067      -0.015840   0.034440     0.052706   \n",
      "Submitting_to_email          0.577490       0.007357   0.064145    -0.015685   \n",
      "Abnormal_URL                 0.017590      -0.032533   0.366833    -0.052416   \n",
      "Redirect                    -0.012668      -0.022476  -0.211096     0.004631   \n",
      "on_mouseover                 0.659478       0.013306   0.087161    -0.036531   \n",
      "RightClick                   0.655863       0.006764   0.038255    -0.013594   \n",
      "popUpWidnow                  0.629406      -0.000948   0.098658    -0.043190   \n",
      "Iframe                       1.000000       0.018848   0.047293    -0.022080   \n",
      "age_of_domain                0.018848       1.000000  -0.034082     0.089949   \n",
      "DNSRecord                    0.047293      -0.034082   1.000000     0.048650   \n",
      "web_traffic                 -0.022080       0.089949   0.048650     1.000000   \n",
      "Page_Rank                    0.022407      -0.147194   0.137860     0.030984   \n",
      "Google_Index                -0.003519      -0.028471   0.137509    -0.012584   \n",
      "Links_pointing_to_page      -0.140824       0.040407  -0.318266    -0.019860   \n",
      "Statistical_report           0.268418       0.009115   0.136860     0.009223   \n",
      "Result                      -0.003394       0.121496   0.075718     0.346103   \n",
      "\n",
      "                             Page_Rank  Google_Index  Links_pointing_to_page  \\\n",
      "index                         0.065117     -0.012527                0.002442   \n",
      "having_IPhaving_IP_Address   -0.091774      0.029153               -0.339065   \n",
      "URLURL_Length                 0.183518      0.002902               -0.022987   \n",
      "Shortining_Service            0.014591      0.155844               -0.198410   \n",
      "having_At_Symbol             -0.064735      0.037061               -0.006080   \n",
      "double_slash_redirecting     -0.003132      0.178415               -0.194165   \n",
      "Prefix_Suffix                -0.006834      0.067781                0.067423   \n",
      "having_Sub_Domain             0.120730      0.057673               -0.010526   \n",
      "SSLfinal_State                0.074545      0.096051               -0.011710   \n",
      "Domain_registeration_length  -0.059898     -0.039766                0.122672   \n",
      "Favicon                       0.011699     -0.016668               -0.127243   \n",
      "port                          0.017954     -0.005413               -0.139104   \n",
      "HTTPS_token                   0.021104      0.115450               -0.128724   \n",
      "Request_URL                   0.055734      0.046409               -0.067109   \n",
      "URL_of_Anchor                 0.099261      0.038816                0.018651   \n",
      "Links_in_tags                -0.006450      0.045557                0.013561   \n",
      "SFH                           0.001979      0.027588               -0.009068   \n",
      "Submitting_to_email           0.026208     -0.008378               -0.039956   \n",
      "Abnormal_URL                  0.007318      0.124751               -0.161027   \n",
      "Redirect                      0.052867      0.057230                0.161278   \n",
      "on_mouseover                  0.015634     -0.006510               -0.038551   \n",
      "RightClick                    0.025341     -0.008066               -0.119831   \n",
      "popUpWidnow                   0.017114     -0.010256               -0.121325   \n",
      "Iframe                        0.022407     -0.003519               -0.140824   \n",
      "age_of_domain                -0.147194     -0.028471                0.040407   \n",
      "DNSRecord                     0.137860      0.137509               -0.318266   \n",
      "web_traffic                   0.030984     -0.012584               -0.019860   \n",
      "Page_Rank                     1.000000      0.032431               -0.028216   \n",
      "Google_Index                  0.032431      1.000000               -0.038777   \n",
      "Links_pointing_to_page       -0.028216     -0.038777                1.000000   \n",
      "Statistical_report            0.031049     -0.005103               -0.016817   \n",
      "Result                        0.104645      0.128950                0.032574   \n",
      "\n",
      "                             Statistical_report    Result  \n",
      "index                                  0.163799  0.000978  \n",
      "having_IPhaving_IP_Address            -0.019103  0.094160  \n",
      "URLURL_Length                         -0.067153  0.057430  \n",
      "Shortining_Service                     0.085461 -0.067966  \n",
      "having_At_Symbol                      -0.080357  0.052948  \n",
      "double_slash_redirecting               0.070390 -0.038608  \n",
      "Prefix_Suffix                         -0.002763  0.348606  \n",
      "having_Sub_Domain                      0.081627  0.298323  \n",
      "SSLfinal_State                         0.063411  0.714741  \n",
      "Domain_registeration_length           -0.002212 -0.225789  \n",
      "Favicon                                0.300917 -0.000280  \n",
      "port                                   0.343987  0.036419  \n",
      "HTTPS_token                            0.096187 -0.039854  \n",
      "Request_URL                            0.035412  0.253372  \n",
      "URL_of_Anchor                          0.077377  0.692935  \n",
      "Links_in_tags                         -0.087343  0.248229  \n",
      "SFH                                   -0.005289  0.221419  \n",
      "Submitting_to_email                    0.352074  0.018249  \n",
      "Abnormal_URL                           0.186399 -0.060488  \n",
      "Redirect                              -0.059194 -0.020113  \n",
      "on_mouseover                           0.277347  0.041838  \n",
      "RightClick                             0.204409  0.012653  \n",
      "popUpWidnow                            0.285261  0.000086  \n",
      "Iframe                                 0.268418 -0.003394  \n",
      "age_of_domain                          0.009115  0.121496  \n",
      "DNSRecord                              0.136860  0.075718  \n",
      "web_traffic                            0.009223  0.346103  \n",
      "Page_Rank                              0.031049  0.104645  \n",
      "Google_Index                          -0.005103  0.128950  \n",
      "Links_pointing_to_page                -0.016817  0.032574  \n",
      "Statistical_report                     1.000000  0.079857  \n",
      "Result                                 0.079857  1.000000  \n",
      "\n",
      "[32 rows x 32 columns]\n"
     ]
    },
    {
     "data": {
      "text/plain": [
       "<AxesSubplot:>"
      ]
     },
     "execution_count": 22,
     "metadata": {},
     "output_type": "execute_result"
    },
    {
     "data": {
      "image/png": "[encoded data removed]",
      "text/plain": [
       "<Figure size 432x288 with 2 Axes>"
      ]
     },
     "metadata": {
      "needs_background": "light"
     },
     "output_type": "display_data"
    }
   ],
   "source": [
    "#print correlation matrix\n",
    "corr = df.corr()\n",
    "print(corr)\n",
    "\n",
    "#plot correlation matrix\n",
    "sns.heatmap(corr, xticklabels = corr.columns, yticklabels = corr.columns, cmap = \"RdBu\")"
   ]
  },
  {
   "cell_type": "code",
   "execution_count": null,
   "id": "43ffe108",
   "metadata": {},
   "outputs": [],
   "source": []
  }
 ],
 "metadata": {
  "kernelspec": {
   "display_name": "Python 3",
   "language": "python",
   "name": "python3"
  },
  "language_info": {
   "codemirror_mode": {
    "name": "ipython",
    "version": 3
   },
   "file_extension": ".py",
   "mimetype": "text/x-python",
   "name": "python",
   "nbconvert_exporter": "python",
   "pygments_lexer": "ipython3",
   "version": "3.8.8"
  }
 },
 "nbformat": 4,
 "nbformat_minor": 5
}
