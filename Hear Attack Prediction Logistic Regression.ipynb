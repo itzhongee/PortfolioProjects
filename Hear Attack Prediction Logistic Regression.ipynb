{
 "cells": [
  {
   "cell_type": "markdown",
   "id": "67363583",
   "metadata": {},
   "source": []
  },
  {
   "cell_type": "markdown",
   "id": "c8f747be",
   "metadata": {},
   "source": []
  },
  {
   "cell_type": "code",
   "execution_count": null,
   "id": "6eb60d28",
   "metadata": {
    "scrolled": false
   },
   "outputs": [],
   "source": [
    "import numpy as np\n",
    "import pandas as pd\n",
    "from sklearn.linear_model import LogisticRegression \n",
    "from sklearn.metrics import classification_report\n",
    "from sklearn.model_selection import train_test_split\n",
    "from sklearn.metrics import accuracy_score\n",
    "\n",
    "df = pd.read_csv('D:/SMU/Data Analytics/Datasets/heart.csv')\n",
    "\n",
    "df.isnull().sum()\n",
    "\n",
    "X = df[['age','sex','cp','trestbps','chol','fbs','restecg','thalach','exang','oldpeak','slope','ca','thal']].values\n",
    "y = df[['target']]\n",
    "print(X,y)\n",
    "\n",
    "#converting the y data\n",
    "label_mapping = {0:'lower chance',1:'higher chance'}\n",
    "y['target'] = y['target'].map(label_mapping)\n",
    "y = np.array(y)\n",
    "\n",
    "#create train and test sets\n",
    "X_train, X_test, y_train, y_test = train_test_split(X, y, test_size=0.2)\n",
    "\n",
    "logmodel = LogisticRegression()\n",
    "\n",
    "logmodel.fit(X_train, y_train)\n",
    "\n",
    "predictions = logmodel.predict(X_test)\n",
    "\n",
    "#test accuracy of actual test results with our predictions\n",
    "accuracy = accuracy_score(y_test, predictions)\n",
    "print(\"predictions: \", predictions)\n",
    "print(\"accuracy: \", accuracy)"
   ]
  },
  {
   "cell_type": "markdown",
   "id": "7b8cba23",
   "metadata": {},
   "source": []
  },
  {
   "cell_type": "markdown",
   "id": "c8ed3c54",
   "metadata": {},
   "source": []
  },
  {
   "cell_type": "code",
   "execution_count": null,
   "id": "e20fa856",
   "metadata": {},
   "outputs": [],
   "source": [
    "# define input\n",
    "new_input = [[input(\"age: \"), input(\"sex: \"), input(\"cp: \"), input(\"trestbps: \"), input(\"chol: \"), input(\"fbs: \"), input(\"restecg: \"), input(\"thalach: \"), input(\"exang: \"), input(\"oldpeak: \"), input(\"slope: \"), input(\"ca: \"), input(\"thal: \")]]\n",
    "# get prediction for new input\n",
    "new_output = logmodel.predict(new_input)\n",
    "# summarize input and output\n",
    "print(\"Heart attack likelihood: \", new_output)"
   ]
  },
  {
   "cell_type": "markdown",
   "id": "c0b3c16c",
   "metadata": {},
   "source": []
  }
 ],
 "metadata": {
  "kernelspec": {
   "display_name": "Python 3",
   "language": "python",
   "name": "python3"
  },
  "language_info": {
   "codemirror_mode": {
    "name": "ipython",
    "version": 3
   },
   "file_extension": ".py",
   "mimetype": "text/x-python",
   "name": "python",
   "nbconvert_exporter": "python",
   "pygments_lexer": "ipython3",
   "version": "3.8.8"
  }
 },
 "nbformat": 4,
 "nbformat_minor": 5
}
