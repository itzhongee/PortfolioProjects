{
 "cells": [
  {
   "cell_type": "code",
   "execution_count": null,
   "id": "e9c29cac",
   "metadata": {},
   "outputs": [],
   "source": [
    "import numpy as np\n",
    "import pandas as pd\n",
    "import seaborn as sns\n",
    "from sklearn import datasets\n",
    "from sklearn import linear_model\n",
    "from sklearn.model_selection import train_test_split\n",
    "from sklearn.metrics import accuracy_score\n",
    "from matplotlib import pyplot as plt\n",
    "\n",
    "df = pd.read_csv('D:/SMU/Data Analytics/Datasets/marvel_vs_dc.csv')\n",
    "\n",
    "df\n",
    "\n",
    "df.isnull().sum()\n",
    "\n",
    "df = df.drop(['Movies','Original Title','Company','Release'],axis=1)\n",
    "\n",
    "#print correlation matrix\n",
    "corr = df.corr()\n",
    "print(corr)\n",
    "\n",
    "#plot correlation matrix\n",
    "sns.heatmap(corr, xticklabels = corr.columns, yticklabels = corr.columns, cmap = \"RdBu\")\n",
    "plt.title(\"How Correlated Are A Movie's Rating, Budget and Gross Sales?\")\n",
    "plt.show()"
   ]
  },
  {
   "cell_type": "code",
   "execution_count": 43,
   "id": "89002808",
   "metadata": {},
   "outputs": [
    {
     "name": "stdout",
     "output_type": "stream",
     "text": [
      "[[ 585366247  140000000        126         79]\n",
      " [ 263427551  150000000        112         61]\n",
      " [ 623933331  200000000        124         57]\n",
      " [ 449326618  150000000        115         57]\n",
      " [ 370569774  140000000        124         66]\n",
      " [1518812988  220000000        143         69]\n",
      " [1214811252  200000000        130         62]\n",
      " [ 644783140  170000000        112         54]\n",
      " [ 714421503  170000000        136         70]\n",
      " [ 772776600  170000000        121         76]\n",
      " [1402805868  250000000        141         66]\n",
      " [ 519311965  130000000        117         64]\n",
      " [1153296293  250000000        147         75]\n",
      " [ 677718395  165000000        115         72]\n",
      " [ 863756051  200000000        136         67]\n",
      " [ 880166924  175000000        133         73]\n",
      " [ 853977126  180000000        130         74]\n",
      " [1346913161  200000000        134         88]\n",
      " [2048359754  321000000        149         68]\n",
      " [ 622674139  162000000        118         70]\n",
      " [1128274794  175000000        123         64]\n",
      " [2797800564  356000000        181         78]\n",
      " [1131927996  160000000        129         69]\n",
      " [  82102379  100000000        104         27]\n",
      " [ 373413297  150000000        140         70]\n",
      " [ 391081192  270000000        154         72]\n",
      " [1004934033  185000000        152         84]\n",
      " [ 185258983  130000000        162         56]\n",
      " [  10903312   47000000         81         33]\n",
      " [ 219851172  200000000        114         39]\n",
      " [1081041287  250000000        164         78]\n",
      " [ 668045518  225000000        143         55]\n",
      " [ 873634919  250000000        151         44]\n",
      " [ 746846894  175000000        123         40]\n",
      " [ 821847012  149000000        141         76]\n",
      " [ 657924295  300000000        120         45]\n",
      " [1148161807  160000000        143         55]\n",
      " [ 364571656  100000000        132         71]\n",
      " [1060504580   55000000        122         59]]     IMDB Rating\n",
      "0           7.9\n",
      "1           6.7\n",
      "2           7.0\n",
      "3           7.0\n",
      "4           6.9\n",
      "5           8.0\n",
      "6           7.2\n",
      "7           6.9\n",
      "8           7.7\n",
      "9           8.0\n",
      "10          7.3\n",
      "11          7.3\n",
      "12          7.8\n",
      "13          7.5\n",
      "14          7.6\n",
      "15          7.4\n",
      "16          7.9\n",
      "17          7.3\n",
      "18          8.5\n",
      "19          7.1\n",
      "20          6.9\n",
      "21          8.5\n",
      "22          7.6\n",
      "23          3.3\n",
      "24          8.2\n",
      "25          6.0\n",
      "26          9.0\n",
      "27          7.6\n",
      "28          4.7\n",
      "29          5.5\n",
      "30          8.4\n",
      "31          7.1\n",
      "32          6.5\n",
      "33          6.0\n",
      "34          7.4\n",
      "35          6.4\n",
      "36          7.0\n",
      "37          7.1\n",
      "38          8.7\n"
     ]
    }
   ],
   "source": [
    "#assign x and y values\n",
    "X = df[['Gross Worldwide','Budget','Minutes','Metascore']].values\n",
    "y = df[['IMDB Rating']]\n",
    "print(X,y)"
   ]
  },
  {
   "cell_type": "code",
   "execution_count": 44,
   "id": "7b6a1c16",
   "metadata": {},
   "outputs": [
    {
     "data": {
      "image/png": "[encoded data removed]",
      "text/plain": [
       "<Figure size 432x288 with 1 Axes>"
      ]
     },
     "metadata": {
      "needs_background": "light"
     },
     "output_type": "display_data"
    }
   ],
   "source": [
    "#Linear regression model algorithm\n",
    "l_reg = linear_model.LinearRegression()\n",
    "\n",
    "plt.scatter(X.T[1], y)\n",
    "plt.show()"
   ]
  },
  {
   "cell_type": "code",
   "execution_count": 45,
   "id": "0c5593cf",
   "metadata": {},
   "outputs": [
    {
     "name": "stdout",
     "output_type": "stream",
     "text": [
      "predictions:  [[7.6052813 ]\n",
      " [7.02962592]\n",
      " [7.68049514]\n",
      " [7.54123872]\n",
      " [7.45321215]\n",
      " [7.58046987]\n",
      " [6.34709973]\n",
      " [5.52953425]]\n",
      "actual:      IMDB Rating\n",
      "27          7.6\n",
      "11          7.3\n",
      "0           7.9\n",
      "25          6.0\n",
      "9           8.0\n",
      "16          7.9\n",
      "33          6.0\n",
      "23          3.3\n",
      "R^2 value:  0.6730225390113518\n",
      "coefficient:  [[ 3.94689473e-10 -3.38308493e-09  2.12604707e-02  3.11523265e-02]]\n",
      "intercept:  [2.78323603]\n"
     ]
    }
   ],
   "source": [
    "#create train and test sets\n",
    "X_train, X_test, y_train, y_test = train_test_split(X, y, test_size=0.2)\n",
    "\n",
    "model = l_reg.fit(X_train, y_train)\n",
    "predictions = model.predict(X_test)\n",
    "\n",
    "print(\"predictions: \", predictions)\n",
    "print(\"actual: \", y_test)\n",
    "print(\"R^2 value: \", l_reg.score(X,y))\n",
    "print(\"coefficient: \", l_reg.coef_)\n",
    "print(\"intercept: \", l_reg.intercept_)"
   ]
  },
  {
   "cell_type": "markdown",
   "id": "3c3f49b4",
   "metadata": {},
   "source": []
  }
 ],
 "metadata": {
  "kernelspec": {
   "display_name": "Python 3",
   "language": "python",
   "name": "python3"
  },
  "language_info": {
   "codemirror_mode": {
    "name": "ipython",
    "version": 3
   },
   "file_extension": ".py",
   "mimetype": "text/x-python",
   "name": "python",
   "nbconvert_exporter": "python",
   "pygments_lexer": "ipython3",
   "version": "3.8.8"
  }
 },
 "nbformat": 4,
 "nbformat_minor": 5
}
